{
 "cells": [
  {
   "cell_type": "code",
   "execution_count": 9,
   "metadata": {},
   "outputs": [],
   "source": [
    "import sys\n",
    "import numpy as np\n",
    "from pathlib import Path\n",
    "import torch\n",
    "root = Path(\".\").resolve().parent\n",
    "sys.path.append(str(root))\n",
    "\n",
    "from src.constants import FLUO_PATH, DIFFERENTIAL_INF_PATH, PHASE_CONTRAST_PATH\n",
    "from src.datasets import SegmentationDataset\n",
    "from torchvision.transforms import ToTensor\n",
    "from torch.utils.data import Dataset\n"
   ]
  },
  {
   "cell_type": "code",
   "execution_count": null,
   "metadata": {},
   "outputs": [],
   "source": [
    "def calculate_mean_std_on_dataset(dataset: Dataset):\n",
    "    \"\"\"\n",
    "    Calculate the mean and standard deviation of a dataset.\n",
    "    \"\"\"\n",
    "    mean = 0.0\n",
    "    std = 0.0\n",
    "\n",
    "    for idx in range(len(dataset)):\n",
    "        img, _ = dataset[idx]\n",
    "        img = img.to(torch.float)\n",
    "        mean += img.mean()  # sum over all pixels\n",
    "        std += img.std()  # sum over all pixels\n",
    "\n",
    "    mean /= len(dataset)\n",
    "    std /= len(dataset)\n",
    "\n",
    "    return mean, std"
   ]
  },
  {
   "cell_type": "code",
   "execution_count": 15,
   "metadata": {},
   "outputs": [],
   "source": [
    "def calculate_min_max_on_dataset(dataset: Dataset):\n",
    "    min, max = np.inf, -np.inf\n",
    "    \n",
    "    for i in range(len(dataset)):\n",
    "        img, _ = dataset[i]\n",
    "        min = min if min < img.min() else img.min()\n",
    "        max = max if max > img.max() else img.max()\n",
    "    return min, max"
   ]
  },
  {
   "cell_type": "markdown",
   "metadata": {},
   "source": [
    "## calculate mean std for each dataset"
   ]
  },
  {
   "cell_type": "code",
   "execution_count": 28,
   "metadata": {},
   "outputs": [],
   "source": [
    "from torchvision.transforms import Compose\n",
    "\n",
    "fluo_dataset = SegmentationDataset(\n",
    "    root_path=FLUO_PATH,\n",
    "    img_folder=\"01\",\n",
    "    target_folder=\"01_ST/SEG\",\n",
    "    transform=ToTensor())\n",
    "    "
   ]
  },
  {
   "cell_type": "code",
   "execution_count": 26,
   "metadata": {},
   "outputs": [
    {
     "data": {
      "text/plain": [
       "(33203.0703125, 305.7331237792969)"
      ]
     },
     "execution_count": 26,
     "metadata": {},
     "output_type": "execute_result"
    }
   ],
   "source": [
    "FLUO_MEAN, FLUO_STD = calculate_mean_std_on_dataset(fluo_dataset)\n",
    "FLUO_MEAN.item(), FLUO_STD.item()"
   ]
  },
  {
   "cell_type": "code",
   "execution_count": 18,
   "metadata": {},
   "outputs": [
    {
     "data": {
      "text/plain": [
       "(0.4668007791042328, 0.04071985185146332)"
      ]
     },
     "execution_count": 18,
     "metadata": {},
     "output_type": "execute_result"
    }
   ],
   "source": [
    "dic_dataset = SegmentationDataset(\n",
    "    root_path=DIFFERENTIAL_INF_PATH,\n",
    "    img_folder=\"01\",\n",
    "    target_folder=\"01_ST/SEG\",\n",
    "    transform=Compose([ToTensor()]),\n",
    ")\n",
    "DIC_MEAN, DIC_STD = calculate_mean_std_on_dataset(dic_dataset)\n",
    "DIC_MEAN.item(), DIC_STD.item()\n"
   ]
  },
  {
   "cell_type": "code",
   "execution_count": 23,
   "metadata": {},
   "outputs": [
    {
     "data": {
      "text/plain": [
       "(0.32636991143226624, 0.0348409079015255)"
      ]
     },
     "execution_count": 23,
     "metadata": {},
     "output_type": "execute_result"
    }
   ],
   "source": [
    "phase_dataset = SegmentationDataset(\n",
    "    root_path=PHASE_CONTRAST_PATH,\n",
    "    img_folder=\"01\",\n",
    "    target_folder=\"01_ST/SEG\",\n",
    "    transform=Compose([ToTensor()]),\n",
    ")\n",
    "PHASE_MEAN, PHASE_STD = calculate_mean_std_on_dataset(phase_dataset)\n",
    "PHASE_MEAN.item(), PHASE_STD.item()"
   ]
  },
  {
   "cell_type": "code",
   "execution_count": null,
   "metadata": {},
   "outputs": [],
   "source": []
  }
 ],
 "metadata": {
  "kernelspec": {
   "display_name": "ml-base",
   "language": "python",
   "name": "python3"
  },
  "language_info": {
   "codemirror_mode": {
    "name": "ipython",
    "version": 3
   },
   "file_extension": ".py",
   "mimetype": "text/x-python",
   "name": "python",
   "nbconvert_exporter": "python",
   "pygments_lexer": "ipython3",
   "version": "3.11.11"
  }
 },
 "nbformat": 4,
 "nbformat_minor": 2
}
